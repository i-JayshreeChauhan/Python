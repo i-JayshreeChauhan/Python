{
 "cells": [
  {
   "cell_type": "markdown",
   "id": "6884b172-10ae-40ba-ab94-e8d76935631b",
   "metadata": {},
   "source": [
    "#Welcome to **Numpy** Tutorial"
   ]
  },
  {
   "cell_type": "markdown",
   "id": "1fbb708c-e26d-4d6b-9770-2d8561f01b6f",
   "metadata": {},
   "source": [
    "**Array basics**"
   ]
  },
  {
   "cell_type": "code",
   "execution_count": 1,
   "id": "3370c56b-64c1-49b2-948e-e18fac318194",
   "metadata": {},
   "outputs": [],
   "source": [
    "import numpy as np"
   ]
  },
  {
   "cell_type": "code",
   "execution_count": 2,
   "id": "0ba43bfa-6e72-43f7-818b-f55a40f43f11",
   "metadata": {},
   "outputs": [],
   "source": [
    "myarray = np.array([1,2,3,4,126,127,251, 12] , np.uint8 )    #this is basically array from list\n",
    "myarray1 = np.array([1,2,3,4,126,127,-127, 12] , np.int8 )  \n",
    "#creating numpy array and making it of size 8 bit (range 2^8 = -127 to 127)\n",
    "#np.int32 , np.int64 , np.int16"
   ]
  },
  {
   "cell_type": "code",
   "execution_count": 3,
   "id": "16418ee0-f5ee-4d00-a454-d404c2c52886",
   "metadata": {},
   "outputs": [
    {
     "data": {
      "text/plain": [
       "array([  1,   2,   3,   4, 126, 127, 251,  12], dtype=uint8)"
      ]
     },
     "execution_count": 3,
     "metadata": {},
     "output_type": "execute_result"
    }
   ],
   "source": [
    "myarray  "
   ]
  },
  {
   "cell_type": "code",
   "execution_count": 4,
   "id": "82d784f1-8f57-41b5-b1de-d2c6857d365d",
   "metadata": {},
   "outputs": [
    {
     "data": {
      "text/plain": [
       "array([   1,    2,    3,    4,  126,  127, -127,   12], dtype=int8)"
      ]
     },
     "execution_count": 4,
     "metadata": {},
     "output_type": "execute_result"
    }
   ],
   "source": [
    "myarray1"
   ]
  },
  {
   "cell_type": "code",
   "execution_count": 5,
   "id": "815af673-a9e3-45e7-97e6-fc0822b0e15c",
   "metadata": {},
   "outputs": [
    {
     "data": {
      "text/plain": [
       "np.int8(126)"
      ]
     },
     "execution_count": 5,
     "metadata": {},
     "output_type": "execute_result"
    }
   ],
   "source": [
    "myarray1[4]"
   ]
  },
  {
   "cell_type": "code",
   "execution_count": 6,
   "id": "537fc284-0817-4281-9820-990d47c9a640",
   "metadata": {},
   "outputs": [],
   "source": [
    "myarray2 = np.array( [ [1,2,3,4] , [11,22,33,44] ] , np.int8)"
   ]
  },
  {
   "cell_type": "code",
   "execution_count": 7,
   "id": "e87d0cb8-138f-4607-b917-cd50fe801d88",
   "metadata": {},
   "outputs": [
    {
     "data": {
      "text/plain": [
       "array([[ 1,  2,  3,  4],\n",
       "       [11, 22, 33, 44]], dtype=int8)"
      ]
     },
     "execution_count": 7,
     "metadata": {},
     "output_type": "execute_result"
    }
   ],
   "source": [
    "myarray2"
   ]
  },
  {
   "cell_type": "code",
   "execution_count": 8,
   "id": "5916a1c3-3eac-452e-9a17-3e78ce48a8d9",
   "metadata": {},
   "outputs": [
    {
     "data": {
      "text/plain": [
       "(np.int8(3), np.int8(44))"
      ]
     },
     "execution_count": 8,
     "metadata": {},
     "output_type": "execute_result"
    }
   ],
   "source": [
    "myarray2[0,2] , myarray2[1,3]"
   ]
  },
  {
   "cell_type": "code",
   "execution_count": 9,
   "id": "0661d0fa-b7ad-46f0-8f93-74cbca8e815c",
   "metadata": {},
   "outputs": [
    {
     "data": {
      "text/plain": [
       "array([[ 1,  2, 23,  4],\n",
       "       [11, 22, 33, 44]], dtype=int8)"
      ]
     },
     "execution_count": 9,
     "metadata": {},
     "output_type": "execute_result"
    }
   ],
   "source": [
    "myarray2[0,2] = 23\n",
    "myarray2"
   ]
  },
  {
   "cell_type": "code",
   "execution_count": 10,
   "id": "c08f7ba3-e3c5-4b2d-abd0-27a094c1c9b3",
   "metadata": {},
   "outputs": [
    {
     "data": {
      "text/plain": [
       "(2, 4)"
      ]
     },
     "execution_count": 10,
     "metadata": {},
     "output_type": "execute_result"
    }
   ],
   "source": [
    "myarray2.shape #if 2d array --> returns (row size , column size)"
   ]
  },
  {
   "cell_type": "code",
   "execution_count": 11,
   "id": "ab8124bb-fe5e-460c-af54-f7e09353fbf9",
   "metadata": {},
   "outputs": [
    {
     "data": {
      "text/plain": [
       "(8,)"
      ]
     },
     "execution_count": 11,
     "metadata": {},
     "output_type": "execute_result"
    }
   ],
   "source": [
    "myarray.shape #if 1d array --> returns (column size , )"
   ]
  },
  {
   "cell_type": "code",
   "execution_count": 12,
   "id": "0e6ebd17-b7e0-4b8d-9c19-5925621705de",
   "metadata": {},
   "outputs": [
    {
     "data": {
      "text/plain": [
       "(8,)"
      ]
     },
     "execution_count": 12,
     "metadata": {},
     "output_type": "execute_result"
    }
   ],
   "source": [
    "myarray1.shape #if 1d array --> returns (column size , )"
   ]
  },
  {
   "cell_type": "code",
   "execution_count": 13,
   "id": "0efea75a-8fca-4353-bdd8-2405690ddb75",
   "metadata": {},
   "outputs": [
    {
     "data": {
      "text/plain": [
       "dtype('uint8')"
      ]
     },
     "execution_count": 13,
     "metadata": {},
     "output_type": "execute_result"
    }
   ],
   "source": [
    "myarray.dtype #returns datatype"
   ]
  },
  {
   "cell_type": "markdown",
   "id": "193c5e96-3c2e-4f89-bfb5-cff7f1472562",
   "metadata": {},
   "source": [
    "**Array creation : conversion from other python structure**"
   ]
  },
  {
   "cell_type": "code",
   "execution_count": 14,
   "id": "f0bd5d34-29d8-466c-9dcc-dc876a3955f9",
   "metadata": {},
   "outputs": [],
   "source": [
    "tuplearray = np.array( ( (1,2,3),(11,22,33),(111,222,333) ) , np.uint16)"
   ]
  },
  {
   "cell_type": "code",
   "execution_count": 15,
   "id": "76d61124-8935-4c2f-83de-92f64ed62a9a",
   "metadata": {},
   "outputs": [
    {
     "data": {
      "text/plain": [
       "array([[  1,   2,   3],\n",
       "       [ 11,  22,  33],\n",
       "       [111, 222, 333]], dtype=uint16)"
      ]
     },
     "execution_count": 15,
     "metadata": {},
     "output_type": "execute_result"
    }
   ],
   "source": [
    "tuplearray"
   ]
  },
  {
   "cell_type": "code",
   "execution_count": 16,
   "id": "f81fc801-20a6-4f65-a328-53006b899483",
   "metadata": {},
   "outputs": [
    {
     "data": {
      "text/plain": [
       "9"
      ]
     },
     "execution_count": 16,
     "metadata": {},
     "output_type": "execute_result"
    }
   ],
   "source": [
    "tuplearray.size"
   ]
  },
  {
   "cell_type": "markdown",
   "id": "63da5fee-5927-4114-83ad-548dbc36495c",
   "metadata": {},
   "source": [
    "**Array creation : Intrinsic numpy array creation objects (eg. arange, ones , zeros ,etc.)**"
   ]
  },
  {
   "cell_type": "code",
   "execution_count": 17,
   "id": "0591a905-e140-45ef-b3bb-4b14adf7072a",
   "metadata": {},
   "outputs": [],
   "source": [
    "a1 = np.zeros((2,5),np.float32)    \n",
    "a2 = np.zeros((2,5))  "
   ]
  },
  {
   "cell_type": "code",
   "execution_count": 18,
   "id": "31643924-b244-4354-a3ba-90f0f1a87057",
   "metadata": {},
   "outputs": [
    {
     "data": {
      "text/plain": [
       "array([[0., 0., 0., 0., 0.],\n",
       "       [0., 0., 0., 0., 0.]], dtype=float32)"
      ]
     },
     "execution_count": 18,
     "metadata": {},
     "output_type": "execute_result"
    }
   ],
   "source": [
    "a1"
   ]
  },
  {
   "cell_type": "code",
   "execution_count": 19,
   "id": "d1e3c58a-5fb4-4b25-8c02-c0d696308078",
   "metadata": {},
   "outputs": [
    {
     "data": {
      "text/plain": [
       "array([[0., 0., 0., 0., 0.],\n",
       "       [0., 0., 0., 0., 0.]])"
      ]
     },
     "execution_count": 19,
     "metadata": {},
     "output_type": "execute_result"
    }
   ],
   "source": [
    "a2"
   ]
  },
  {
   "cell_type": "code",
   "execution_count": 20,
   "id": "5a6df630-2619-4c09-9144-1862ba6df0ef",
   "metadata": {},
   "outputs": [
    {
     "data": {
      "text/plain": [
       "array([0, 1, 2, 3, 4, 5, 6, 7, 8, 9])"
      ]
     },
     "execution_count": 20,
     "metadata": {},
     "output_type": "execute_result"
    }
   ],
   "source": [
    "a3 = np.arange(10)  #creates an array upto 0 - mentioned value\n",
    "a3"
   ]
  },
  {
   "cell_type": "code",
   "execution_count": 21,
   "id": "eea75e7a-2b04-4f40-bb5f-1417759c9ec4",
   "metadata": {},
   "outputs": [
    {
     "data": {
      "text/plain": [
       "array([ 1.        ,  1.47368421,  1.94736842,  2.42105263,  2.89473684,\n",
       "        3.36842105,  3.84210526,  4.31578947,  4.78947368,  5.26315789,\n",
       "        5.73684211,  6.21052632,  6.68421053,  7.15789474,  7.63157895,\n",
       "        8.10526316,  8.57894737,  9.05263158,  9.52631579, 10.        ])"
      ]
     },
     "execution_count": 21,
     "metadata": {},
     "output_type": "execute_result"
    }
   ],
   "source": [
    "a4 = np.linspace(1,10,20)      #from 1 to 10 generate 20 equal spaced elements\n",
    "a4"
   ]
  },
  {
   "cell_type": "code",
   "execution_count": 22,
   "id": "886947bc-6655-4ec7-b9df-48c1eb9d2c15",
   "metadata": {},
   "outputs": [
    {
     "data": {
      "text/plain": [
       "array([[0., 0., 0., 0.],\n",
       "       [0., 0., 0., 0.]])"
      ]
     },
     "execution_count": 22,
     "metadata": {},
     "output_type": "execute_result"
    }
   ],
   "source": [
    "a5 = np.empty((2,4))  #creates array which has random or garbage values or zero(in the best case)\n",
    "a5"
   ]
  },
  {
   "cell_type": "code",
   "execution_count": 23,
   "id": "f3ccb517-818c-4134-91a8-c6e458a8bb34",
   "metadata": {},
   "outputs": [
    {
     "data": {
      "text/plain": [
       "array([ 1.        ,  1.47368421,  1.94736842,  2.42105263,  2.89473684,\n",
       "        3.36842105,  3.84210526,  4.31578947,  4.78947368,  5.26315789,\n",
       "        5.73684211,  6.21052632,  6.68421053,  7.15789474,  7.63157895,\n",
       "        8.10526316,  8.57894737,  9.05263158,  9.52631579, 10.        ])"
      ]
     },
     "execution_count": 23,
     "metadata": {},
     "output_type": "execute_result"
    }
   ],
   "source": [
    "a6 = np.empty_like(a4)   #copies given array\n",
    "a6"
   ]
  },
  {
   "cell_type": "code",
   "execution_count": 24,
   "id": "a7e8377a-3150-4b1e-b065-08526e3f39ec",
   "metadata": {},
   "outputs": [
    {
     "data": {
      "text/plain": [
       "array([[1., 0., 0., 0.],\n",
       "       [0., 1., 0., 0.],\n",
       "       [0., 0., 1., 0.],\n",
       "       [0., 0., 0., 1.]])"
      ]
     },
     "execution_count": 24,
     "metadata": {},
     "output_type": "execute_result"
    }
   ],
   "source": [
    "a7 = np.identity(4)   #creates identity matrix kind of multidimentional array\n",
    "a7"
   ]
  },
  {
   "cell_type": "code",
   "execution_count": 25,
   "id": "fbee0c6c-1e01-482f-9e98-dbee5a389d85",
   "metadata": {},
   "outputs": [
    {
     "data": {
      "text/plain": [
       "array([0, 1, 2, 3, 4, 5, 6, 7, 8, 9])"
      ]
     },
     "execution_count": 25,
     "metadata": {},
     "output_type": "execute_result"
    }
   ],
   "source": [
    "a8 = np.arange(10)\n",
    "a8"
   ]
  },
  {
   "cell_type": "code",
   "execution_count": 26,
   "id": "dfee6acc-87c4-4fdb-bdcb-c51954fe1757",
   "metadata": {},
   "outputs": [
    {
     "data": {
      "text/plain": [
       "array([[0, 1, 2, 3, 4],\n",
       "       [5, 6, 7, 8, 9]])"
      ]
     },
     "execution_count": 26,
     "metadata": {},
     "output_type": "execute_result"
    }
   ],
   "source": [
    "a8.reshape(2,5)   #reshapes array in row*column format #given value should generate valid matrix otherwise it will throw err"
   ]
  },
  {
   "cell_type": "code",
   "execution_count": 27,
   "id": "18016998-99b8-43dc-b275-e3f4c99ec9ce",
   "metadata": {},
   "outputs": [
    {
     "data": {
      "text/plain": [
       "array([0, 1, 2, 3, 4, 5, 6, 7, 8, 9])"
      ]
     },
     "execution_count": 27,
     "metadata": {},
     "output_type": "execute_result"
    }
   ],
   "source": [
    "a8  #original array does not get reshaped"
   ]
  },
  {
   "cell_type": "code",
   "execution_count": 28,
   "id": "2ad22005-ac46-4fbf-8eb8-f0fe521c715c",
   "metadata": {},
   "outputs": [
    {
     "data": {
      "text/plain": [
       "array([[0, 1, 2, 3, 4],\n",
       "       [5, 6, 7, 8, 9]])"
      ]
     },
     "execution_count": 28,
     "metadata": {},
     "output_type": "execute_result"
    }
   ],
   "source": [
    "a8 = a8.reshape(2,5) #thus we need to do like this\n",
    "a8"
   ]
  },
  {
   "cell_type": "code",
   "execution_count": 29,
   "id": "32b63b16-c59c-42aa-8e97-1da2d349d951",
   "metadata": {},
   "outputs": [
    {
     "name": "stdout",
     "output_type": "stream",
     "text": [
      "[0 1 2 3 4 5 6 7 8 9]\n",
      "(10,)\n"
     ]
    }
   ],
   "source": [
    "a8 = a8.ravel()  #converts and n-darray to a 1d array\n",
    "print(a8)\n",
    "print(a8.shape)"
   ]
  }
 ],
 "metadata": {
  "kernelspec": {
   "display_name": "Python 3 (ipykernel)",
   "language": "python",
   "name": "python3"
  },
  "language_info": {
   "codemirror_mode": {
    "name": "ipython",
    "version": 3
   },
   "file_extension": ".py",
   "mimetype": "text/x-python",
   "name": "python",
   "nbconvert_exporter": "python",
   "pygments_lexer": "ipython3",
   "version": "3.13.3"
  }
 },
 "nbformat": 4,
 "nbformat_minor": 5
}
