{
 "cells": [
  {
   "cell_type": "code",
   "execution_count": 1,
   "id": "23d9a887-bba5-48bc-9dbe-4ba94bea5de3",
   "metadata": {},
   "outputs": [],
   "source": [
    "import numpy as np"
   ]
  },
  {
   "cell_type": "code",
   "execution_count": 2,
   "id": "188211a9-82bf-4a74-917e-0f15292b4579",
   "metadata": {},
   "outputs": [
    {
     "name": "stdout",
     "output_type": "stream",
     "text": [
      "[[1 2 3]\n",
      " [4 5 6]\n",
      " [7 1 0]]\n"
     ]
    }
   ],
   "source": [
    "x = [[1,2,3],[4,5,6],[7,1,0]]\n",
    "arr = np.array(x)\n",
    "print(arr)"
   ]
  },
  {
   "cell_type": "code",
   "execution_count": 3,
   "id": "97bd8587-39de-4e96-a431-d9d06b76b2da",
   "metadata": {},
   "outputs": [
    {
     "data": {
      "text/plain": [
       "array([12,  8,  9])"
      ]
     },
     "execution_count": 3,
     "metadata": {},
     "output_type": "execute_result"
    }
   ],
   "source": [
    "arr.sum(axis=0)     #axis=0 --> means all columns "
   ]
  },
  {
   "cell_type": "code",
   "execution_count": 4,
   "id": "871f4c4e-84c0-43ba-9aaa-0aa570979939",
   "metadata": {},
   "outputs": [
    {
     "data": {
      "text/plain": [
       "array([ 6, 15,  8])"
      ]
     },
     "execution_count": 4,
     "metadata": {},
     "output_type": "execute_result"
    }
   ],
   "source": [
    "arr.sum(axis=1)     #axis=1 --> means all rows "
   ]
  },
  {
   "cell_type": "markdown",
   "id": "88558154-26d4-40cf-b009-c7a63d5d4ff6",
   "metadata": {},
   "source": [
    "# Attributes and Methods of numpy array"
   ]
  },
  {
   "cell_type": "code",
   "execution_count": 5,
   "id": "21baee96-0e3f-49d9-b8eb-43c03b7010fa",
   "metadata": {},
   "outputs": [
    {
     "name": "stdout",
     "output_type": "stream",
     "text": [
      "[[1 2 3]\n",
      " [4 5 6]\n",
      " [7 1 0]]\n"
     ]
    }
   ],
   "source": [
    "print(arr)"
   ]
  },
  {
   "cell_type": "code",
   "execution_count": 6,
   "id": "f6692eaa-42ee-413a-b8ab-0ade527474a6",
   "metadata": {},
   "outputs": [
    {
     "name": "stdout",
     "output_type": "stream",
     "text": [
      "[[1 4 7]\n",
      " [2 5 1]\n",
      " [3 6 0]]\n"
     ]
    }
   ],
   "source": [
    "print(arr.T)  "
   ]
  }
 ],
 "metadata": {
  "kernelspec": {
   "display_name": "Python 3 (ipykernel)",
   "language": "python",
   "name": "python3"
  },
  "language_info": {
   "codemirror_mode": {
    "name": "ipython",
    "version": 3
   },
   "file_extension": ".py",
   "mimetype": "text/x-python",
   "name": "python",
   "nbconvert_exporter": "python",
   "pygments_lexer": "ipython3",
   "version": "3.13.3"
  }
 },
 "nbformat": 4,
 "nbformat_minor": 5
}
