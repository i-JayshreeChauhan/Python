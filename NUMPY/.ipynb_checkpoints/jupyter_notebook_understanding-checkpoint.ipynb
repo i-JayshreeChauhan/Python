{
 "cells": [
  {
   "cell_type": "markdown",
   "id": "19287934-0b0c-4066-8cc2-f10ae9110179",
   "metadata": {},
   "source": [
    "#Welcome to **Numpy** tutorial"
   ]
  },
  {
   "cell_type": "markdown",
   "id": "9a52d760-e8bd-49c1-b6a6-9c55fca13d7a",
   "metadata": {},
   "source": [
    "*prints italic*"
   ]
  },
  {
   "cell_type": "markdown",
   "id": "c68596ed-cc75-4c27-852b-050727eb8c7d",
   "metadata": {},
   "source": [
    "**prints bold**"
   ]
  },
  {
   "cell_type": "markdown",
   "id": "d996f6f6-a047-485b-9825-cd0b723bf328",
   "metadata": {},
   "source": [
    "***prints Italic + bold***"
   ]
  },
  {
   "cell_type": "code",
   "execution_count": 1,
   "id": "bae9bd35-5221-4fd5-9c1c-378f728dbfd8",
   "metadata": {},
   "outputs": [],
   "source": [
    "import numpy as np"
   ]
  },
  {
   "cell_type": "code",
   "execution_count": 2,
   "id": "a212635b-1954-4ee6-891f-f0678eaf1620",
   "metadata": {},
   "outputs": [
    {
     "name": "stdout",
     "output_type": "stream",
     "text": [
      "Hello World!\n"
     ]
    }
   ],
   "source": [
    "print(\"Hello World!\")"
   ]
  },
  {
   "cell_type": "code",
   "execution_count": 3,
   "id": "5ac128a4-521c-4a86-a81b-d0a5e88fa0a3",
   "metadata": {},
   "outputs": [],
   "source": [
    "i = 45"
   ]
  },
  {
   "cell_type": "code",
   "execution_count": 4,
   "id": "73136316-0042-4524-ac09-01d358c1271e",
   "metadata": {},
   "outputs": [],
   "source": [
    "j = 50"
   ]
  },
  {
   "cell_type": "code",
   "execution_count": 5,
   "id": "dc9234e1-77f2-4344-92db-e5e86f85afae",
   "metadata": {},
   "outputs": [
    {
     "name": "stdout",
     "output_type": "stream",
     "text": [
      "value of i=45\n",
      "value of j=50\n"
     ]
    }
   ],
   "source": [
    "print(f\"value of i={i}\")\n",
    "print(f\"value of j={j}\")"
   ]
  },
  {
   "cell_type": "code",
   "execution_count": null,
   "id": "5da6c5d8-6bca-4233-8512-f90ff9a9a18b",
   "metadata": {},
   "outputs": [],
   "source": []
  }
 ],
 "metadata": {
  "kernelspec": {
   "display_name": "Python 3 (ipykernel)",
   "language": "python",
   "name": "python3"
  },
  "language_info": {
   "codemirror_mode": {
    "name": "ipython",
    "version": 3
   },
   "file_extension": ".py",
   "mimetype": "text/x-python",
   "name": "python",
   "nbconvert_exporter": "python",
   "pygments_lexer": "ipython3",
   "version": "3.13.3"
  }
 },
 "nbformat": 4,
 "nbformat_minor": 5
}
