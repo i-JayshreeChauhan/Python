{
 "cells": [
  {
   "cell_type": "code",
   "execution_count": 1,
   "id": "23d9a887-bba5-48bc-9dbe-4ba94bea5de3",
   "metadata": {},
   "outputs": [],
   "source": [
    "import numpy as np"
   ]
  },
  {
   "cell_type": "code",
   "execution_count": 2,
   "id": "188211a9-82bf-4a74-917e-0f15292b4579",
   "metadata": {},
   "outputs": [
    {
     "name": "stdout",
     "output_type": "stream",
     "text": [
      "[[1 2 3]\n",
      " [4 5 6]\n",
      " [7 1 0]]\n"
     ]
    }
   ],
   "source": [
    "x = [[1,2,3],[4,5,6],[7,1,0]]\n",
    "arr = np.array(x,np.int8)\n",
    "print(arr)"
   ]
  },
  {
   "cell_type": "code",
   "execution_count": 3,
   "id": "97bd8587-39de-4e96-a431-d9d06b76b2da",
   "metadata": {},
   "outputs": [
    {
     "data": {
      "text/plain": [
       "array([12,  8,  9])"
      ]
     },
     "execution_count": 3,
     "metadata": {},
     "output_type": "execute_result"
    }
   ],
   "source": [
    "arr.sum(axis=0)     #axis=0 --> means all columns "
   ]
  },
  {
   "cell_type": "code",
   "execution_count": 4,
   "id": "871f4c4e-84c0-43ba-9aaa-0aa570979939",
   "metadata": {},
   "outputs": [
    {
     "data": {
      "text/plain": [
       "array([ 6, 15,  8])"
      ]
     },
     "execution_count": 4,
     "metadata": {},
     "output_type": "execute_result"
    }
   ],
   "source": [
    "arr.sum(axis=1)     #axis=1 --> means all rows "
   ]
  },
  {
   "cell_type": "markdown",
   "id": "88558154-26d4-40cf-b009-c7a63d5d4ff6",
   "metadata": {},
   "source": [
    "# Attributes of numpy array"
   ]
  },
  {
   "cell_type": "code",
   "execution_count": 5,
   "id": "21baee96-0e3f-49d9-b8eb-43c03b7010fa",
   "metadata": {},
   "outputs": [
    {
     "name": "stdout",
     "output_type": "stream",
     "text": [
      "[[1 2 3]\n",
      " [4 5 6]\n",
      " [7 1 0]]\n"
     ]
    }
   ],
   "source": [
    "print(arr)"
   ]
  },
  {
   "cell_type": "code",
   "execution_count": 6,
   "id": "02f20df6-3d24-4dbe-bb72-24c4f48ecb50",
   "metadata": {},
   "outputs": [
    {
     "name": "stdout",
     "output_type": "stream",
     "text": [
      "[[1 4 7]\n",
      " [2 5 1]\n",
      " [3 6 0]]\n"
     ]
    }
   ],
   "source": [
    "#Transpose of Matrix\n",
    "print(arr.T)  "
   ]
  },
  {
   "cell_type": "code",
   "execution_count": 7,
   "id": "976b15e5-f052-4e7f-9452-875c39f36b4f",
   "metadata": {},
   "outputs": [
    {
     "name": "stdout",
     "output_type": "stream",
     "text": [
      "1\n",
      "2\n",
      "3\n",
      "4\n",
      "5\n",
      "6\n",
      "7\n",
      "1\n",
      "0\n"
     ]
    }
   ],
   "source": [
    "#iterating each element of Matrix\n",
    "#arr.flat -- creates an iterator\n",
    "for i in arr.flat:    \n",
    "    print(i)      #prints row1 elements first (from left to right) then row2 elements and so on ...."
   ]
  },
  {
   "cell_type": "code",
   "execution_count": 8,
   "id": "8bf7fb73-29f6-48fa-8973-ed87cad2eb6f",
   "metadata": {},
   "outputs": [
    {
     "name": "stdout",
     "output_type": "stream",
     "text": [
      "2\n"
     ]
    }
   ],
   "source": [
    "#dimention of an array\n",
    "print(arr.ndim)  "
   ]
  },
  {
   "cell_type": "code",
   "execution_count": 9,
   "id": "b7023ffe-c173-4685-8860-87b907cef353",
   "metadata": {},
   "outputs": [
    {
     "name": "stdout",
     "output_type": "stream",
     "text": [
      "9\n"
     ]
    }
   ],
   "source": [
    "#size of array (total elements in matrix)\n",
    "print(arr.size)"
   ]
  },
  {
   "cell_type": "code",
   "execution_count": 10,
   "id": "dd520383-7b3f-4262-a991-408b02dc775a",
   "metadata": {},
   "outputs": [
    {
     "name": "stdout",
     "output_type": "stream",
     "text": [
      "9\n"
     ]
    }
   ],
   "source": [
    "#total byte size of array\n",
    "print(arr.nbytes)   #will print n bytes as we have used int8 as its datatype while creating arr (each element is of 1 byte(8 bit)) thus 9 bytes"
   ]
  },
  {
   "cell_type": "markdown",
   "id": "224f3306-4d5f-4cad-9a1b-9d8e2df2b522",
   "metadata": {},
   "source": [
    "# Methods of numpy array"
   ]
  },
  {
   "cell_type": "code",
   "execution_count": 11,
   "id": "fd0e7cf0-5e33-43f6-873b-ee48da784ef9",
   "metadata": {},
   "outputs": [
    {
     "name": "stdout",
     "output_type": "stream",
     "text": [
      "[  1   2  33  44 555   6   7]\n",
      "4\n",
      "0\n",
      "[0 1 5 6 2 3 4]\n",
      "4\n"
     ]
    }
   ],
   "source": [
    "one = np.array([1,2,33,44,555,6,7])\n",
    "print(one)\n",
    "print(one.argmax())   #returns the index of max element\n",
    "print(one.argmin())   #returns the index of min element\n",
    "print(one.argsort())   #returns the index of elements - in sorted order \n",
    "print(one.argmax(axis=0))  #returns the index of the element(starting from 0) of the max element in axis 0 (for 1-d array axis 0 is an entire array)"
   ]
  },
  {
   "cell_type": "code",
   "execution_count": 12,
   "id": "b596bace-4609-4384-9d30-6a2b5d573663",
   "metadata": {},
   "outputs": [
    {
     "name": "stdout",
     "output_type": "stream",
     "text": [
      "[[11  2 33]\n",
      " [ 4 88  5]]\n",
      "--------\n",
      "4\n",
      "--------\n",
      "1\n",
      "--------\n",
      "[[1 0 2]\n",
      " [0 2 1]]\n",
      "--------\n",
      "[0 1 0]\n",
      "--------\n",
      "[2 1]\n",
      "--------\n",
      "[[1 0 2]\n",
      " [0 2 1]]\n",
      "--------\n",
      "[11  2 33  4 88  5]\n",
      "--------\n",
      "[[11]\n",
      " [ 2]\n",
      " [33]\n",
      " [ 4]\n",
      " [88]\n",
      " [ 5]]\n"
     ]
    }
   ],
   "source": [
    "two = np.array([[11,2,33],[4,88,5]])\n",
    "print(two)\n",
    "print(\"--------\")\n",
    "print(two.argmax())   #returns the index of max element\n",
    "print(\"--------\")\n",
    "print(two.argmin())   #returns the index of min element\n",
    "print(\"--------\")\n",
    "print(two.argsort())   #returns the index of elements - in sorted order\n",
    "print(\"--------\")\n",
    "print(two.argmax(axis=0))  #returns the index of the element(starting from 0) of the max element in axis 0 \n",
    "print(\"--------\")\n",
    "print(two.argmax(axis=1))  #returns the index of the element(starting from 0) of the max element in axis 1 \n",
    "print(\"--------\")\n",
    "print(two.argsort(axis=1))  #returns the index of elements - in sorted order (for axis 1) (rows)\n",
    "print(\"--------\")\n",
    "print(two.ravel())\n",
    "print(\"--------\")\n",
    "print(two.reshape(6,1))"
   ]
  },
  {
   "cell_type": "markdown",
   "id": "b799e3e2-8d73-4a37-a934-db73fdcfb35e",
   "metadata": {},
   "source": [
    "# Mathematical Operations"
   ]
  },
  {
   "cell_type": "code",
   "execution_count": 13,
   "id": "f1bd58c7-cd4c-4a8b-93d8-c6c6aa4504a4",
   "metadata": {},
   "outputs": [
    {
     "name": "stdout",
     "output_type": "stream",
     "text": [
      "[[1 1 1]\n",
      " [2 2 2]\n",
      " [3 3 3]]\n",
      "-----------------\n",
      "[[10 10 10]\n",
      " [20 20 20]\n",
      " [30 30 30]]\n",
      "-----------------\n",
      "[[11 11 11]\n",
      " [22 22 22]\n",
      " [33 33 33]]\n",
      "-----------------\n",
      "[[110 110 110]\n",
      " [220 220 220]\n",
      " [330 330 330]]\n",
      "-----------------\n",
      "[[10 10 10]\n",
      " [40 40 40]\n",
      " [90 90 90]]\n",
      "-----------------\n",
      "[[3.16227766 3.16227766 3.16227766]\n",
      " [4.47213595 4.47213595 4.47213595]\n",
      " [5.47722558 5.47722558 5.47722558]]\n",
      "-----------------\n",
      "18\n",
      "-----------------\n",
      "3\n",
      "-----------------\n",
      "1\n"
     ]
    }
   ],
   "source": [
    "#addition\n",
    "ar1 = np.array( [ [1,1,1] , [2,2,2] , [3,3,3] ] )\n",
    "ar2 = np.array( [ [10,10,10] , [20,20,20] , [30,30,30] ])\n",
    "print(ar1)\n",
    "print(\"-----------------\")\n",
    "print(ar2)\n",
    "print(\"-----------------\")\n",
    "print(ar1+ar2)\n",
    "print(\"-----------------\")\n",
    "print(10*(ar1+ar2))\n",
    "print(\"-----------------\")\n",
    "print((ar1*ar2))\n",
    "print(\"-----------------\")\n",
    "print(np.sqrt(ar2))\n",
    "print(\"-----------------\")\n",
    "print(ar1.sum())\n",
    "print(\"-----------------\")\n",
    "print(ar1.max())\n",
    "print(\"-----------------\")\n",
    "print(ar1.min())"
   ]
  },
  {
   "cell_type": "code",
   "execution_count": 14,
   "id": "3cc2636d-6f11-406f-bb57-fb0995b4aec9",
   "metadata": {},
   "outputs": [
    {
     "name": "stdout",
     "output_type": "stream",
     "text": [
      "[[ 1  5  8]\n",
      " [ 2  9  4]\n",
      " [ 3 11  0]]\n",
      "---------------\n"
     ]
    }
   ],
   "source": [
    "ar = np.array( [ [1,5,8],[2,9,4],[3,11,0] ] )\n",
    "print(ar)\n",
    "print(\"---------------\")\n"
   ]
  },
  {
   "cell_type": "code",
   "execution_count": 15,
   "id": "9e61370b-afc1-442e-a42b-966e22caf187",
   "metadata": {},
   "outputs": [
    {
     "data": {
      "text/plain": [
       "(array([0, 1, 2]), array([2, 1, 1]))"
      ]
     },
     "execution_count": 15,
     "metadata": {},
     "output_type": "execute_result"
    }
   ],
   "source": [
    "np.where(ar>5)  \n",
    "#returns a tuples of index returns two tuples row tuple and column tuple -you have to combine them \n",
    "# example (ans will be (array([0, 1, 2]), array([2, 1, 1])) -- so here 1st element of both the tuple\n",
    "#i.e. \n",
    "#  (0,2)--> value 8 \n",
    "#  (1,1)--> value 9 \n",
    "#  (2,1)--> value 11 \n"
   ]
  },
  {
   "cell_type": "code",
   "execution_count": 16,
   "id": "af961a89-5442-4dbd-b9c3-45830ff290a8",
   "metadata": {},
   "outputs": [
    {
     "name": "stdout",
     "output_type": "stream",
     "text": [
      "8\n"
     ]
    }
   ],
   "source": [
    "print(np.count_nonzero(ar))   #prints count of total non-zero values"
   ]
  },
  {
   "cell_type": "code",
   "execution_count": 17,
   "id": "7b275881-de94-47a7-b156-dc56bbf469bf",
   "metadata": {},
   "outputs": [
    {
     "name": "stdout",
     "output_type": "stream",
     "text": [
      "(array([0, 0, 0, 1, 1, 1, 2, 2]), array([0, 1, 2, 0, 1, 2, 0, 1]))\n"
     ]
    }
   ],
   "source": [
    "print(np.nonzero(ar))  #prints index as tuple (1st tuple = row index and 2nd tuple = column index)"
   ]
  },
  {
   "cell_type": "markdown",
   "id": "4705fcd1-9d92-4461-8e44-eaec5e0e6722",
   "metadata": {},
   "source": [
    "# checking space consumption difference between python array(which is list) and numpy array"
   ]
  },
  {
   "cell_type": "code",
   "execution_count": 18,
   "id": "76fa93ff-1163-433f-bd41-1ea01bcf740f",
   "metadata": {},
   "outputs": [
    {
     "name": "stdout",
     "output_type": "stream",
     "text": [
      "112\n",
      "32\n",
      "28\n",
      "8\n"
     ]
    }
   ],
   "source": [
    "import sys\n",
    "py_arr = [1,2,3,4]\n",
    "np_arr = np.array(py_arr)\n",
    "\n",
    "print( sys.getsizeof(1) * len(py_arr) )\n",
    "print( np_arr.itemsize * np_arr.size )\n",
    "print( sys.getsizeof(1))   # for 64 bit os is is 28\n",
    "print(np_arr.itemsize)     # for 64 bit os is is 8"
   ]
  },
  {
   "cell_type": "code",
   "execution_count": 19,
   "id": "eec828d7-8799-45ed-a652-a1a67fc2e012",
   "metadata": {},
   "outputs": [
    {
     "data": {
      "text/plain": [
       "[1, 2, 3, 4]"
      ]
     },
     "execution_count": 19,
     "metadata": {},
     "output_type": "execute_result"
    }
   ],
   "source": [
    "np_arr.tolist()  #converts numpy array to list"
   ]
  }
 ],
 "metadata": {
  "kernelspec": {
   "display_name": "Python 3 (ipykernel)",
   "language": "python",
   "name": "python3"
  },
  "language_info": {
   "codemirror_mode": {
    "name": "ipython",
    "version": 3
   },
   "file_extension": ".py",
   "mimetype": "text/x-python",
   "name": "python",
   "nbconvert_exporter": "python",
   "pygments_lexer": "ipython3",
   "version": "3.13.3"
  }
 },
 "nbformat": 4,
 "nbformat_minor": 5
}
